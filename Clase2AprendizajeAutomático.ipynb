{
  "nbformat": 4,
  "nbformat_minor": 0,
  "metadata": {
    "colab": {
      "provenance": [],
      "authorship_tag": "ABX9TyOLhfh3h5+SuU9C89CdSYVA",
      "include_colab_link": true
    },
    "kernelspec": {
      "name": "python3",
      "display_name": "Python 3"
    },
    "language_info": {
      "name": "python"
    }
  },
  "cells": [
    {
      "cell_type": "markdown",
      "metadata": {
        "id": "view-in-github",
        "colab_type": "text"
      },
      "source": [
        "<a href=\"https://colab.research.google.com/github/AlejoTechEngineer/API-REST/blob/main/Clase2AprendizajeAutom%C3%A1tico.ipynb\" target=\"_parent\"><img src=\"https://colab.research.google.com/assets/colab-badge.svg\" alt=\"Open In Colab\"/></a>"
      ]
    },
    {
      "cell_type": "code",
      "execution_count": 20,
      "metadata": {
        "colab": {
          "base_uri": "https://localhost:8080/",
          "height": 501
        },
        "collapsed": true,
        "id": "sw6GKdX7WGWh",
        "outputId": "fb9151e5-6379-4324-bcc4-9526e7777d71"
      },
      "outputs": [
        {
          "output_type": "stream",
          "name": "stdout",
          "text": [
            "Coeficiente de correlación de Pearson: 0.6106270467206688\n",
            "P-value: 0.00033883513597919785\n",
            "Intercept: -2367.702841302211\n",
            "Coeficiente: [('bateos', np.float64(0.5528713534479736))]\n",
            "Coeficiente de determinación R^2: 0.3586119899498744\n"
          ]
        },
        {
          "output_type": "display_data",
          "data": {
            "text/plain": [
              "<Figure size 600x384 with 1 Axes>"
            ],
            "image/png": "[encoded data removed]"
          },
          "metadata": {}
        }
      ],
      "source": [
        "# Tratamiento de datos\n",
        "# ==============================================================================\n",
        "import pandas as pd\n",
        "\n",
        "# Gráficos\n",
        "# ==============================================================================\n",
        "import matplotlib.pyplot as plt\n",
        "\n",
        "# Preprocesado y modelado\n",
        "# ==============================================================================\n",
        "from scipy.stats import pearsonr\n",
        "from sklearn.linear_model import LinearRegression\n",
        "from sklearn.model_selection import train_test_split\n",
        "from sklearn.metrics import root_mean_squared_error\n",
        "import statsmodels.api as sm\n",
        "\n",
        "# Configuración matplotlib\n",
        "# ==============================================================================\n",
        "plt.style.use('fivethirtyeight')\n",
        "plt.rcParams.update({'font.size': 10, 'lines.linewidth': 1.5})\n",
        "\n",
        "# Configuración warnings\n",
        "# ==============================================================================\n",
        "import warnings\n",
        "warnings.filterwarnings('once')\n",
        "\n",
        "\n",
        "#ingreso de datos del problema y ejecutar para que muestre la tabla\n",
        "\n",
        "# Datos\n",
        "# ==============================================================================\n",
        "equipos = [\"Texas\",\"Boston\",\"Detroit\",\"Kansas\",\"St.\",\"New_S.\",\"New_Y.\",\n",
        "           \"Milwaukee\",\"Colorado\",\"Houston\",\"Baltimore\",\"Los_An.\",\"Chicago\",\n",
        "           \"Cincinnati\",\"Los_P.\",\"Philadelphia\",\"Chicago\",\"Cleveland\",\"Arizona\",\n",
        "           \"Toronto\",\"Minnesota\",\"Florida\",\"Pittsburgh\",\"Oakland\",\"Tampa\",\n",
        "           \"Atlanta\",\"Washington\",\"San.F\",\"San.I\",\"Seattle\"]\n",
        "\n",
        "bateos = [5659,  5710, 5563, 5672, 5532, 5600, 5518, 5447, 5544, 5598,\n",
        "          5585, 5436, 5549, 5612, 5513, 5579, 5502, 5509, 5421, 5559,\n",
        "          5487, 5508, 5421, 5452, 5436, 5528, 5441, 5486, 5417, 5421]\n",
        "\n",
        "runs = [855, 875, 787, 730, 762, 718, 867, 721, 735, 615, 708, 644, 654, 735,\n",
        "        667, 713, 654, 704, 731, 743, 619, 625, 610, 645, 707, 641, 624, 570,\n",
        "        593, 556]\n",
        "\n",
        "datos = pd.DataFrame({'equipos': equipos, 'bateos': bateos, 'runs': runs})\n",
        "datos.head(3)\n",
        "\n",
        "# Gráfico de distribución entre bateos y carreras anotadas\n",
        "# ==============================================================================\n",
        "fig, ax = plt.subplots(figsize=(6, 3.84))\n",
        "\n",
        "datos.plot(\n",
        "    x    = 'bateos',\n",
        "    y    = 'runs',\n",
        "    c    = 'firebrick',\n",
        "    kind = \"scatter\",\n",
        "    ax   = ax\n",
        ")\n",
        "ax.set_title('Distribución de bateos y runs');\n",
        "\n",
        "\n",
        "# Correlación lineal entre las dos variables\n",
        "# ==============================================================================\n",
        "corr_test = pearsonr(x = datos['bateos'], y =  datos['runs'])\n",
        "print(f\"Coeficiente de correlación de Pearson: {corr_test[0]}\")\n",
        "print(f\"P-value: {corr_test[1]}\")\n",
        "\n",
        "#Un valor de 0 indica que no hay correlación\n",
        "#Un valor entre 0 y 0.1 indica una correlación inexistente\n",
        "#Un valor entre 0.1 y 0.29 indica una correlación débil\n",
        "#Un valor entre 0.3 y 0.5 indica una correlación moderada\n",
        "#Un valor entre 0.5 y 1.0 indica una correlación fuerte\n",
        "#Un valor de 1 o -1 indica una correlación perfecta\n",
        "\n",
        "# División de los datos en train y test\n",
        "# ==============================================================================\n",
        "X = datos[['bateos']]\n",
        "y = datos['runs']\n",
        "\n",
        "X_train, X_test, y_train, y_test = train_test_split(\n",
        "                                        X,\n",
        "                                        y,\n",
        "                                        train_size   = 0.8,\n",
        "                                        random_state = 1234,\n",
        "                                        shuffle      = True\n",
        "                                    )\n",
        "\n",
        "# Creación del modelo\n",
        "# ==============================================================================\n",
        "modelo = LinearRegression()\n",
        "modelo.fit(X = X_train, y = y_train)\n",
        "\n",
        "# Información del modelo\n",
        "# ==============================================================================\n",
        "print(f\"Intercept: {modelo.intercept_}\")\n",
        "print(f\"Coeficiente: {list(zip(modelo.feature_names_in_, modelo.coef_))}\")\n",
        "print(f\"Coeficiente de determinación R^2:\", modelo.score(X, y))\n",
        "\n",
        "#El coeficiente de determinación, o R^2, es una medida estadística que se utiliza para evaluar la precisión de un modelo de regresión lineal.\n",
        "#Se calcula en una escala de 0 a 1, donde 1 indica un ajuste perfecto y 0 indica un modelo sin valor predictivo\n"
      ]
    },
    {
      "cell_type": "code",
      "source": [],
      "metadata": {
        "id": "edqLew3BbZ5S"
      },
      "execution_count": null,
      "outputs": []
    }
  ]
}